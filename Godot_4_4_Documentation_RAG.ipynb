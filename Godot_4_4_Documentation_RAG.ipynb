{
  "nbformat": 4,
  "nbformat_minor": 0,
  "metadata": {
    "colab": {
      "provenance": []
    },
    "kernelspec": {
      "name": "python3",
      "display_name": "Python 3"
    },
    "language_info": {
      "name": "python"
    }
  },
  "cells": [
    {
      "cell_type": "markdown",
      "source": [
        "This script automates the process of creating a searchable vector database from the Godot game engine's documentation."
      ],
      "metadata": {
        "id": "JktKBN237JkF"
      }
    },
    {
      "cell_type": "code",
      "metadata": {
        "id": "736ec5b2"
      },
      "source": [
        "# --- 1. Install all dependencies ---\n",
        "!pip install -U langchain langchain-community langchain-huggingface sentence-transformers chromadb docutils\n",
        "\n",
        "import os\n",
        "import shutil\n",
        "from langchain.text_splitter import RecursiveCharacterTextSplitter\n",
        "from langchain_huggingface import HuggingFaceEmbeddings\n",
        "from langchain_community.vectorstores import Chroma\n",
        "from docutils.core import publish_parts\n",
        "from tqdm.auto import tqdm\n",
        "from google.colab import drive\n",
        "\n",
        "# --- 2. Clone the repository ---\n",
        "repo_url = \"https://github.com/godotengine/godot-docs.git\"\n",
        "repo_path = \"godot-docs-4.4\"\n",
        "branch = \"4.4\"\n",
        "\n",
        "if not os.path.exists(repo_path):\n",
        "    print(f\"Cloning repository from {repo_url} on branch {branch}...\")\n",
        "    !git clone --branch {branch} {repo_url} {repo_path} --progress\n",
        "else:\n",
        "    print(f\"Directory '{repo_path}' already exists. Skipping clone.\")\n",
        "\n",
        "# --- 3. Find and convert .rst files ---\n",
        "rst_files = []\n",
        "for root, dirs, files in os.walk(repo_path):\n",
        "    for file in files:\n",
        "        if file.endswith('.rst'):\n",
        "            rst_files.append(os.path.join(root, file))\n",
        "\n",
        "print(f\"Found {len(rst_files)} .rst files.\")\n",
        "\n",
        "def rst_to_string(file_path):\n",
        "    \"\"\"Converts an .rst file to a plain text string.\"\"\"\n",
        "    try:\n",
        "        with open(file_path, 'r', encoding='utf-8') as f:\n",
        "            rst_content = f.read()\n",
        "        parts = publish_parts(source=rst_content, writer_name='html4css1', settings_overrides={'halt_level': 5, 'report_level': 5})\n",
        "        return parts['body']\n",
        "    except Exception as e:\n",
        "        return \"\"\n",
        "\n",
        "text_file = \"godot_docs.txt\"\n",
        "if not os.path.exists(text_file):\n",
        "    print(f\"Converting .rst files to {text_file}...\")\n",
        "    all_text = []\n",
        "    for rst_file in tqdm(rst_files, desc=\"Converting .rst files\"):\n",
        "        all_text.append(rst_to_string(rst_file))\n",
        "    full_text = \"\\n\".join(all_text)\n",
        "    with open(text_file, \"w\", encoding=\"utf-8\") as f:\n",
        "        f.write(full_text)\n",
        "    print(f\"Saved the combined text to {text_file}\")\n",
        "else:\n",
        "    print(f\"File '{text_file}' already exists. Skipping conversion.\")\n",
        "    with open(text_file, \"r\", encoding=\"utf-8\") as f:\n",
        "        full_text = f.read()\n",
        "\n",
        "# --- 4. Chunk and embed the data ---\n",
        "text_splitter = RecursiveCharacterTextSplitter(chunk_size=1000, chunk_overlap=200)\n",
        "chunks = text_splitter.split_text(full_text)\n",
        "print(f\"Created {len(chunks)} chunks.\")\n",
        "\n",
        "model_name = \"sentence-transformers/all-MiniLM-L6-v2\"\n",
        "embeddings = HuggingFaceEmbeddings(model_name=model_name)\n",
        "\n",
        "# --- 5. Store in ChromaDB ---\n",
        "db_path = \"./chroma_db\"\n",
        "if os.path.exists(db_path):\n",
        "    shutil.rmtree(db_path)\n",
        "\n",
        "if chunks:\n",
        "    print(\"Creating vector database. This may take a while...\")\n",
        "    vectordb = Chroma.from_texts(\n",
        "        texts=chunks,\n",
        "        embedding=embeddings,\n",
        "        persist_directory=db_path\n",
        "    )\n",
        "    print(\"Vector database created successfully.\")\n",
        "else:\n",
        "    print(\"No text chunks to process. Vector database not created.\")\n",
        "\n",
        "# --- 6. Save to Google Drive ---\n",
        "drive.mount('/content/drive')\n",
        "drive_db_path = '/content/drive/My Drive/chroma_db'\n",
        "if os.path.exists(drive_db_path):\n",
        "    shutil.rmtree(drive_db_path)\n",
        "shutil.copytree(db_path, drive_db_path)\n",
        "print(f\"Successfully saved the vector database to your Google Drive at {drive_db_path}\")"
      ],
      "execution_count": null,
      "outputs": []
    },
    {
      "cell_type": "markdown",
      "metadata": {
        "id": "8a3e9da5"
      },
      "source": [
        "# Godot Engine 4.4 Documentation Vector Database\n",
        "\n",
        "This project provides a pre-built vector database for the Godot Engine 4.4 documentation. This database can be used to perform fast and efficient similarity searches on the entire Godot documentation, making it a powerful tool for developers looking for information, code examples, or tutorials.\n",
        "\n",
        "## What is a Vector Database?\n",
        "\n",
        "A vector database is a type of database that stores and indexes data as high-dimensional vectors. In the context of natural language processing, these vectors represent the semantic meaning of text. By converting the Godot documentation into a vector database, we can perform searches based on the meaning of the query, rather than just keywords. This allows for more intuitive and powerful searches. For example, you could search for \"how to make a character jump\" and get relevant results even if the exact phrase doesn't appear in the documentation.\n",
        "\n",
        "## How was this database created?\n",
        "\n",
        "This vector database was created using the following process:\n",
        "\n",
        "1. **Cloning the Documentation:** The official Godot Engine 4.4 documentation was cloned from its GitHub repository.\n",
        "2. **Parsing .rst Files:** All of the `.rst` (reStructuredText) files in the documentation were parsed and converted into plain text.\n",
        "3. **Chunking:** The entire text of the documentation was split into smaller chunks of 1000 characters with a 200-character overlap. This is done to ensure that the context of each chunk is preserved.\n",
        "4. **Embedding:** Each chunk of text was then converted into a high-dimensional vector using the `all-MiniLM-L6-v2` sentence transformer model. This model is a state-of-the-art model that is optimized for creating sentence and paragraph embeddings.\n",
        "5. **Storing in ChromaDB:** The resulting vectors were then stored in a ChromaDB database. ChromaDB is an open-source vector database that is easy to use and can be run locally.\n",
        "\n",
        "## How to use this database\n",
        "\n",
        "To use this database, you will need to have Python installed, along with the following libraries:\n",
        "\n",
        "* `langchain`\n",
        "* `langchain-community`\n",
        "* `langchain-huggingface`\n",
        "* `sentence-transformers`\n",
        "* `chromadb`\n",
        "\n",
        "You can install these libraries using pip:"
      ]
    },
    {
      "cell_type": "code",
      "metadata": {
        "id": "d56c1192"
      },
      "source": [
        "from langchain_community.vectorstores import Chroma\n",
        "from langchain_huggingface import HuggingFaceEmbeddings\n",
        "\n",
        "# Load the vector database from your Google Drive\n",
        "drive_db_path = '/content/drive/My Drive/chroma_db'\n",
        "model_name = \"sentence-transformers/all-MiniLM-L6-v2\"\n",
        "embeddings = HuggingFaceEmbeddings(model_name=model_name)\n",
        "vectordb = Chroma(persist_directory=drive_db_path, embedding_function=embeddings)\n",
        "\n",
        "# Perform a similarity search\n",
        "query = \"how to create a 2d character animation\"\n",
        "docs = vectordb.similarity_search(query)\n",
        "\n",
        "# Print the results\n",
        "for doc in docs:\n",
        "    print(doc.page_content)\n",
        "    print(\"-\" * 20)"
      ],
      "execution_count": null,
      "outputs": []
    },
    {
      "cell_type": "markdown",
      "metadata": {
        "id": "eaea247b"
      },
      "source": [
        "This will perform a similarity search for the query \"how to create a 2d character animation\" and print the most relevant documents from the Godot documentation.\n",
        "\n",
        "## Conclusion\n",
        "\n",
        "This vector database provides a powerful and intuitive way to search the Godot Engine 4.4 documentation. By leveraging the power of vector embeddings, you can find the information you need quickly and easily. We hope that this project will be a valuable resource for the Godot community."
      ]
    }
  ]
}